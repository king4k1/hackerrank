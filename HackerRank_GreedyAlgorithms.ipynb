{
 "cells": [
  {
   "cell_type": "markdown",
   "metadata": {},
   "source": [
    "## Luck Balance\n",
    "\n",
    "Lena is preparing for an important coding competition that is preceded by a number of sequential preliminary contests. Initially, her luck balance is 0. She believes in \"saving luck\", and wants to check her theory. Each contest is described by two integers, L[i] and T[i]\n",
    "\n",
    "1. L[i] is the amount of luck associated with a contest.\n",
    "2. T[i] denotes the contest's importance rating. It's equal to 1 if the contest is important, and it's equal to 0 if it's unimportant."
   ]
  },
  {
   "cell_type": "code",
   "execution_count": 1,
   "metadata": {},
   "outputs": [],
   "source": [
    "# k = 2\n",
    "# Contest\t\tL[i]\tT[i]\n",
    "# 1\t\t5\t1\n",
    "# 2\t\t1\t1\n",
    "# 3\t\t4\t0"
   ]
  },
  {
   "cell_type": "markdown",
   "metadata": {},
   "source": [
    "If Lena loses all of the contests, her will be 10(5+1+4). \n",
    "Since she is allowed to lose 2 important contests, and there are only 2 important contests. \n",
    "She can lose all three contests to maximize her luck at . \n",
    "If , she has to win at least 1 of the 2 important contests. \n",
    "She would choose to win the lowest value important contest worth 1. \n",
    "Her final luck will be 8(5 + 4 - 1)."
   ]
  },
  {
   "cell_type": "code",
   "execution_count": 49,
   "metadata": {},
   "outputs": [],
   "source": [
    "contests = [[5, 1], [2, 1], [1, 1], [8, 1], [10, 0], [5, 0]]\n",
    "k = 3"
   ]
  },
  {
   "cell_type": "code",
   "execution_count": 52,
   "metadata": {},
   "outputs": [],
   "source": [
    "def luckBalance(k, contests):\n",
    "    # k : allow to lose number of important contest\n",
    "    # sort with k index\n",
    "    T0 ,T1 = [], []\n",
    "    for L, T in contests :\n",
    "        if T == 1 :\n",
    "            T1.append(L)\n",
    "        else :\n",
    "            T0.append(L)\n",
    "    T1.sort(reverse=True)\n",
    "    return sum(T1[:k]) - sum(T1[k:]) + sum(T0)"
   ]
  },
  {
   "cell_type": "code",
   "execution_count": 53,
   "metadata": {},
   "outputs": [
    {
     "data": {
      "text/plain": [
       "29"
      ]
     },
     "execution_count": 53,
     "metadata": {},
     "output_type": "execute_result"
    }
   ],
   "source": [
    "luckBalance(k, contests)"
   ]
  },
  {
   "cell_type": "markdown",
   "metadata": {},
   "source": [
    "## Greedy Florist\n",
    "\n",
    "A group of friends want to buy a bouquet of flowers. The florist wants to maximize his number of new customers and the money he makes. To do this, he decides he'll multiply the price of each flower by the number of that customer's previously purchased flowers plus . The first flower will be original price 1\n",
    "\n",
    "the first flower will be original price, (0 + 1) x original price, the next will be (1 + 1) x original price and so on."
   ]
  },
  {
   "cell_type": "markdown",
   "metadata": {},
   "source": [
    "n개의 꽃 가격 c와 k명의 사람이 있을 때, 꽃의 가격은 동일한 사람이 꽃을 사면 꽃 가격에 이전 구매 횟수의 배수로 가격이 측정될 때 전체 꽃을 사는 최소 값을 계산(즉 꽃 가격이 [2, 3]이고 한 사람이 꽃을 사면 처음엔 3, 두 번째는 2x2로 전체 가격은 7에 살 수 있다. 순서가 바뀌면 2 + 3x2 = 8이 되므로 최소는 7)\n",
    "\n",
    "첫 줄엔 n, k. 두번째 줄엔 c (1<=n,k<=100, 1<=c[i]<=10^6, answer<2^31, 0<=i<n)"
   ]
  },
  {
   "cell_type": "code",
   "execution_count": 54,
   "metadata": {},
   "outputs": [],
   "source": [
    "k = 3\n",
    "n = 4\n",
    "c = [1, 2, 3, 4]"
   ]
  },
  {
   "cell_type": "code",
   "execution_count": 56,
   "metadata": {},
   "outputs": [],
   "source": [
    "def getMinimumCost(k, c):\n",
    "    minCost = 0\n",
    "    c.sort(reverse = True)\n",
    "    for i in range(len(c)):\n",
    "        # i // k : k명의 사람이 앞에서 샀으면 앞에서 구매한 횟수를 더해서 곱해주기 때문에..\n",
    "        minCost += c[i]*(i//k + 1)\n",
    "    return minCost"
   ]
  },
  {
   "cell_type": "code",
   "execution_count": 57,
   "metadata": {},
   "outputs": [
    {
     "data": {
      "text/plain": [
       "11"
      ]
     },
     "execution_count": 57,
     "metadata": {},
     "output_type": "execute_result"
    }
   ],
   "source": [
    "getMinimumCost(k, c)"
   ]
  },
  {
   "cell_type": "markdown",
   "metadata": {},
   "source": [
    "## Max Min\n",
    "\n",
    "You will be given a list of integers arr, and a single integer k. You must create an array of length k from elements of arr such that its unfairness is minimized. Call that array subarr.\n",
    "\n",
    "Unfairness of an array is calculated as max(subarr) - min(subarr)"
   ]
  },
  {
   "cell_type": "code",
   "execution_count": 105,
   "metadata": {},
   "outputs": [],
   "source": [
    "def maxMin(k, arr):\n",
    "    arr.sort()\n",
    "    ans = 10**9\n",
    "    for i in range(len(arr) - k + 1):\n",
    "        subarr_min = arr[i]\n",
    "        subarr_max = arr[(i+k-1)]\n",
    "        ans = min(subarr_max - subarr_min, ans)\n",
    "    return ans"
   ]
  },
  {
   "cell_type": "code",
   "execution_count": 106,
   "metadata": {},
   "outputs": [
    {
     "data": {
      "text/plain": [
       "1"
      ]
     },
     "execution_count": 106,
     "metadata": {},
     "output_type": "execute_result"
    }
   ],
   "source": [
    "k = 2\n",
    "arr = [1, 4, 7, 2]\n",
    "maxMin(k, arr)"
   ]
  },
  {
   "cell_type": "code",
   "execution_count": 107,
   "metadata": {},
   "outputs": [
    {
     "data": {
      "text/plain": [
       "20"
      ]
     },
     "execution_count": 107,
     "metadata": {},
     "output_type": "execute_result"
    }
   ],
   "source": [
    "k = 3\n",
    "arr = [10, 100, 300, 200, 1000, 20, 30]\n",
    "maxMin(k, arr)"
   ]
  },
  {
   "cell_type": "markdown",
   "metadata": {},
   "source": [
    "## Reverse Shuffle Merge\n",
    "\n",
    "1. reverse => 'abc' -> 'cba'\n",
    "2. shuffle ==> 'god' --> ['god', 'gdo', 'ogd', 'odg', 'dgo', 'dog']\n",
    "    * [''.join(a) for a in list(itertools.permutations('god', 3))]\n",
    "    \n",
    "3. merge(A1, A2) ==> A1와 A2의 순서는 유지하되 합침"
   ]
  },
  {
   "cell_type": "code",
   "execution_count": 190,
   "metadata": {},
   "outputs": [],
   "source": [
    "from collections import defaultdict\n",
    "def frequency(s):\n",
    "    res = defaultdict(int)\n",
    "    for char in s: res[char] += 1\n",
    "    return res\n",
    "\n",
    "# Complete the reverseShuffleMerge function below.\n",
    "def reverseShuffleMerge(s):\n",
    "    char_freq = frequency(s)\n",
    "    used_chars = defaultdict(int)\n",
    "    remain_chars = dict(char_freq)\n",
    "    res = []\n",
    "    \n",
    "    def can_use(char):\n",
    "        return (char_freq[char] // 2 - used_chars[char]) > 0\n",
    "    \n",
    "    def can_pop(char):\n",
    "        needed_chars = char_freq[char] // 2\n",
    "        return used_chars[char] + remain_chars[char] - 1 >= needed_chars\n",
    "    \n",
    "    for char in reversed(s):\n",
    "        if can_use(char):\n",
    "            while res and res[-1] > char and can_pop(res[-1]):\n",
    "                removed_char = res.pop()\n",
    "                used_chars[removed_char] -= 1\n",
    "            used_chars[char] += 1\n",
    "            res.append(char)\n",
    "        remain_chars[char] -= 1\n",
    "    return \"\".join(res)"
   ]
  },
  {
   "cell_type": "code",
   "execution_count": 191,
   "metadata": {},
   "outputs": [
    {
     "data": {
      "text/plain": [
       "'egg'"
      ]
     },
     "execution_count": 191,
     "metadata": {},
     "output_type": "execute_result"
    }
   ],
   "source": [
    "s = 'eggegg'\n",
    "reverseShuffleMerge(s)"
   ]
  },
  {
   "cell_type": "code",
   "execution_count": 189,
   "metadata": {},
   "outputs": [
    {
     "data": {
      "text/plain": [
       "'aeiou'"
      ]
     },
     "execution_count": 189,
     "metadata": {},
     "output_type": "execute_result"
    }
   ],
   "source": [
    "s = 'aeiouuoiea'\n",
    "reverseShuffleMerge(s)"
   ]
  },
  {
   "cell_type": "markdown",
   "metadata": {},
   "source": [
    "## Minimum Absolute Difference in an Array"
   ]
  },
  {
   "cell_type": "code",
   "execution_count": 235,
   "metadata": {},
   "outputs": [],
   "source": [
    "arr = [-2, 2, 4]"
   ]
  },
  {
   "cell_type": "code",
   "execution_count": 240,
   "metadata": {},
   "outputs": [],
   "source": [
    "## 시간복잡도 높음, sort하고 굳이 array에서 combination set 계산한 이유로 인함"
   ]
  },
  {
   "cell_type": "code",
   "execution_count": 242,
   "metadata": {},
   "outputs": [],
   "source": [
    "def minimumAbsoluteDifference(arr):\n",
    "    arr.sort()\n",
    "    arr_iter = itertools.combinations(arr, 2)\n",
    "    a, b = next(arr_iter)\n",
    "    abs_min = abs(a - b)\n",
    "    while True :\n",
    "        try :\n",
    "            a, b = next(arr_iter)\n",
    "            if abs(a-b) < abs_min :\n",
    "                abs_min = abs(a - b)\n",
    "        except :\n",
    "            break\n",
    "    return abs_min"
   ]
  },
  {
   "cell_type": "code",
   "execution_count": 243,
   "metadata": {},
   "outputs": [],
   "source": [
    "## 일반 방법론 이용 전체 데이터 돌면서 앞뒤 값 차이로 계산"
   ]
  },
  {
   "cell_type": "code",
   "execution_count": 244,
   "metadata": {},
   "outputs": [],
   "source": [
    "def minimumAbsoluteDifference(arr):\n",
    "    arr.sort()\n",
    "    min_diff = abs(arr[0] - arr[1])\n",
    "    for i in range(len(arr)-1):\n",
    "        dif = abs(arr[i] - arr[i+1])\n",
    "        if dif < min_diff:\n",
    "            min_diff = dif\n",
    "    return min_diff"
   ]
  },
  {
   "cell_type": "code",
   "execution_count": 245,
   "metadata": {},
   "outputs": [
    {
     "data": {
      "text/plain": [
       "2"
      ]
     },
     "execution_count": 245,
     "metadata": {},
     "output_type": "execute_result"
    }
   ],
   "source": [
    "minimumAbsoluteDifference(arr)"
   ]
  },
  {
   "cell_type": "code",
   "execution_count": null,
   "metadata": {},
   "outputs": [],
   "source": []
  }
 ],
 "metadata": {
  "kernelspec": {
   "display_name": "Python 3",
   "language": "python",
   "name": "python3"
  },
  "language_info": {
   "codemirror_mode": {
    "name": "ipython",
    "version": 3
   },
   "file_extension": ".py",
   "mimetype": "text/x-python",
   "name": "python",
   "nbconvert_exporter": "python",
   "pygments_lexer": "ipython3",
   "version": "3.7.4"
  }
 },
 "nbformat": 4,
 "nbformat_minor": 2
}
