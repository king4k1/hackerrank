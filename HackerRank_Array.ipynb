{
 "cells": [
  {
   "cell_type": "markdown",
   "metadata": {},
   "source": [
    "## 2D Array - DS"
   ]
  },
  {
   "cell_type": "code",
   "execution_count": 51,
   "metadata": {},
   "outputs": [
    {
     "data": {
      "text/plain": [
       "[[1, 1, 1, 0, 0, 0],\n",
       " [0, 1, 0, 0, 0, 0],\n",
       " [1, 1, 1, 0, 0, 0],\n",
       " [0, 0, 2, 4, 4, 0],\n",
       " [0, 0, 0, 2, 0, 0],\n",
       " [0, 0, 1, 2, 4, 0]]"
      ]
     },
     "execution_count": 51,
     "metadata": {},
     "output_type": "execute_result"
    }
   ],
   "source": [
    "arr = [[1, 1, 1, 0, 0, 0],\n",
    "       [0, 1, 0, 0, 0, 0],\n",
    "       [1, 1, 1, 0, 0, 0],\n",
    "       [0, 0, 2, 4, 4, 0],\n",
    "       [0, 0, 0, 2, 0, 0],\n",
    "       [0, 0, 1, 2, 4, 0]]\n",
    "arr"
   ]
  },
  {
   "cell_type": "code",
   "execution_count": 100,
   "metadata": {},
   "outputs": [],
   "source": [
    "#!/bin/python3\n",
    "\n",
    "import math\n",
    "import os\n",
    "import random\n",
    "import re\n",
    "import sys\n",
    "\n",
    "# Complete the hourglassSum function below.\n",
    "def hourglassSum(arr):\n",
    "    result = []\n",
    "    for k in range(len(arr[0])-2) :\n",
    "        for j in range(len(arr)-2) :\n",
    "            temp_result = [sum(x[j:j+3]) if i != 1 else x[j+1] for i, x in enumerate(arr[k:(k+3)])]\n",
    "            temp_sum = sum(temp_result)\n",
    "            result.append(temp_sum)\n",
    "    return(max(result))"
   ]
  },
  {
   "cell_type": "code",
   "execution_count": 101,
   "metadata": {},
   "outputs": [
    {
     "data": {
      "text/plain": [
       "19"
      ]
     },
     "execution_count": 101,
     "metadata": {},
     "output_type": "execute_result"
    }
   ],
   "source": [
    "hourglassSum(arr)"
   ]
  },
  {
   "cell_type": "code",
   "execution_count": 81,
   "metadata": {},
   "outputs": [
    {
     "data": {
      "text/plain": [
       "[3, 1, 3]"
      ]
     },
     "execution_count": 81,
     "metadata": {},
     "output_type": "execute_result"
    }
   ],
   "source": [
    "k = 0\n",
    "j = 0\n",
    "[sum(x[j:j+3]) if i != 1 else x[j+1] for i, x in enumerate(arr[k:(k+3)])]\n"
   ]
  },
  {
   "cell_type": "markdown",
   "metadata": {},
   "source": [
    "## Arrays: Left Rotation"
   ]
  },
  {
   "cell_type": "code",
   "execution_count": 7,
   "metadata": {},
   "outputs": [],
   "source": [
    "arr = [1, 2, 3, 4, 5]\n",
    "# after 2 rotation\n",
    "arr_with_2rowtation = [3, 4, 5, 1, 2]"
   ]
  },
  {
   "cell_type": "markdown",
   "metadata": {},
   "source": [
    "* list 형태에서 append와 pop을 자유롭게 사용할 수 있는지에 대한 문제\n",
    "* time-limit이 있으며, 효율적인 코딩을 위하여 queue개념을 아는 것도 필요함"
   ]
  },
  {
   "cell_type": "code",
   "execution_count": 12,
   "metadata": {},
   "outputs": [],
   "source": [
    "# Complete the rotLeft function below.\n",
    "def rotLeft(a, d):\n",
    "    time = 0\n",
    "    while True :\n",
    "        time += 1\n",
    "        first = a.pop(0)\n",
    "        a.append(first)\n",
    "        if time == d :\n",
    "            break \n",
    "    return a    "
   ]
  },
  {
   "cell_type": "markdown",
   "metadata": {},
   "source": [
    "## New Year Chaos"
   ]
  },
  {
   "cell_type": "markdown",
   "metadata": {},
   "source": [
    "어느 줄을 기다리는 사람이나 앞사람에게 뇌물을 주고 줄을 바꿀 수 있으며, 2명이 위치를 바꾸게 되면 원래 위치의 스티커를 붙이고 기다리게 된다. 그리고 한 사람은 최대 2명과 줄을 바꿀 수 있다."
   ]
  },
  {
   "cell_type": "code",
   "execution_count": 38,
   "metadata": {},
   "outputs": [],
   "source": [
    "# Complete the minimumBribes function below.\n",
    "def minimumBribes(q):\n",
    "    # 초기값 입력\n",
    "    bribes = 0\n",
    "    # i는 array인 q의 마지막값부터 하나씩 앞으로 진행 \n",
    "    for i in range(len(q)-1,-1,-1):\n",
    "        # 만약 i번째 인덱스를 가지는 q값과 본래 위치해야할 값과의 차이가 2 이상\n",
    "        # 즉, 한사람이 2번 이상 움직인 경우이므로 Too chaotic을 출력함\n",
    "        if q[i] - (i + 1) > 2:\n",
    "            print('Too chaotic')\n",
    "            return \n",
    "        # j번째 인덱스의 q값이 i번째 인덱스의 q값보다 크다면,\n",
    "        # 원래 위치가 이동된 것이므로 swap한 수를 1 더해줌\n",
    "        for j in range(max(0, q[i] - 2),i):\n",
    "            if q[j] > q[i]:\n",
    "                bribes += 1\n",
    "    print(bribes)"
   ]
  },
  {
   "cell_type": "code",
   "execution_count": 39,
   "metadata": {},
   "outputs": [],
   "source": [
    "arr = [2, 1, 5, 3, 4]"
   ]
  },
  {
   "cell_type": "code",
   "execution_count": 40,
   "metadata": {},
   "outputs": [
    {
     "data": {
      "text/plain": [
       "3"
      ]
     },
     "execution_count": 40,
     "metadata": {},
     "output_type": "execute_result"
    }
   ],
   "source": [
    "minimumBribes(arr)"
   ]
  },
  {
   "cell_type": "markdown",
   "metadata": {},
   "source": [
    "## Minimum Swaps 2\n",
    "\n",
    "You are given an unordered array consisting of consecutive integers without any duplicates.\n",
    "You are allowed to swap any two elements. You need to find the minimum number of swaps required to sort the array in ascending order."
   ]
  },
  {
   "cell_type": "code",
   "execution_count": 47,
   "metadata": {},
   "outputs": [],
   "source": [
    "# Complete the minimumSwaps function below.\n",
    "def minimumSwaps(arr):\n",
    "    ## 초기값 세팅\n",
    "    numSwaps = 0\n",
    "    i = 0\n",
    "    ## i가 arr길이를 넘지 않을때까지 반복 \n",
    "    while(i < len(arr)-1):\n",
    "        # i번째 인덱스를 가지는 arr가 i+1이 아니면 스왑 진행 \n",
    "        if arr[i] != i+1:\n",
    "            tmp = arr[i]\n",
    "            arr[i], arr[tmp-1] = arr[tmp-1], arr[i]\n",
    "            numSwaps += 1\n",
    "        else:\n",
    "            i += 1\n",
    "    return numSwaps"
   ]
  },
  {
   "cell_type": "code",
   "execution_count": 48,
   "metadata": {},
   "outputs": [],
   "source": [
    "arr = [7, 1, 3, 2, 4, 5, 6]"
   ]
  },
  {
   "cell_type": "code",
   "execution_count": 49,
   "metadata": {},
   "outputs": [
    {
     "data": {
      "text/plain": [
       "5"
      ]
     },
     "execution_count": 49,
     "metadata": {},
     "output_type": "execute_result"
    }
   ],
   "source": [
    "minimumSwaps(arr)"
   ]
  },
  {
   "cell_type": "code",
   "execution_count": null,
   "metadata": {},
   "outputs": [],
   "source": []
  },
  {
   "cell_type": "code",
   "execution_count": null,
   "metadata": {},
   "outputs": [],
   "source": []
  }
 ],
 "metadata": {
  "kernelspec": {
   "display_name": "Python 3",
   "language": "python",
   "name": "python3"
  },
  "language_info": {
   "codemirror_mode": {
    "name": "ipython",
    "version": 3
   },
   "file_extension": ".py",
   "mimetype": "text/x-python",
   "name": "python",
   "nbconvert_exporter": "python",
   "pygments_lexer": "ipython3",
   "version": "3.7.4"
  }
 },
 "nbformat": 4,
 "nbformat_minor": 2
}
