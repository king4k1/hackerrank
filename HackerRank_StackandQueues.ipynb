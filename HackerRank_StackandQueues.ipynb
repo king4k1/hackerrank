{
 "cells": [
  {
   "cell_type": "markdown",
   "metadata": {},
   "source": [
    "## Balanced Brackets\n",
    "\n",
    "A bracket is considered to be any one of the following characters: (, ), {, }, [, or ].\n",
    "Two brackets are considered to be a matched pair if the an opening bracket (i.e., (, [, or {) occurs to the left of a closing bracket (i.e., ), ], or }) of the exact same type. There are three types of matched pairs of brackets: [], {}, and ().\n",
    "A matching pair of brackets is not balanced if the set of brackets it encloses are not matched. For example, {[(])} is not balanced because the contents in between { and } are not balanced. The pair of square brackets encloses a single, unbalanced opening bracket, (, and the pair of parentheses encloses a single, unbalanced closing square bracket, ]."
   ]
  },
  {
   "cell_type": "code",
   "execution_count": 1,
   "metadata": {},
   "outputs": [],
   "source": [
    "import math\n",
    "import os\n",
    "import random\n",
    "import re\n",
    "import sys\n",
    "from collections import Counter"
   ]
  },
  {
   "cell_type": "code",
   "execution_count": 31,
   "metadata": {},
   "outputs": [],
   "source": [
    "dicty = {'(':')', '[':']', '{':'}'}\n",
    "\n",
    "def isBalanced(expression):\n",
    "    stack = []\n",
    "    for x in expression:\n",
    "        if dicty.get(x):\n",
    "            stack.append(dicty[x])\n",
    "        else:\n",
    "            if len(stack) == 0 or x != stack[-1]:\n",
    "                return (\"NO\")\n",
    "            stack.pop()\n",
    "    return (\"YES\" if len(stack) == 0 else \"NO\")"
   ]
  },
  {
   "cell_type": "code",
   "execution_count": 33,
   "metadata": {},
   "outputs": [
    {
     "data": {
      "text/plain": [
       "'YES'"
      ]
     },
     "execution_count": 33,
     "metadata": {},
     "output_type": "execute_result"
    }
   ],
   "source": [
    "isBalanced(s)"
   ]
  },
  {
   "cell_type": "markdown",
   "metadata": {},
   "source": [
    "## Queues: A Tale of Two Stacks\n",
    "\n",
    "A queue is an abstract data type that maintains the order in which elements were added to it, allowing the oldest elements to be removed from the front and new elements to be added to the rear. This is called a First-In-First-Out (FIFO) data structure because the first element added to the queue (i.e., the one that has been waiting the longest) is always the first one to be removed."
   ]
  },
  {
   "cell_type": "code",
   "execution_count": 37,
   "metadata": {},
   "outputs": [],
   "source": [
    "class MyQueue(object):\n",
    "    def __init__(self):\n",
    "        self.head = []\n",
    "        \n",
    "    \n",
    "    def peek(self):\n",
    "        return self.head[0]\n",
    "        \n",
    "    def pop(self):\n",
    "        self.head = self.head[1:]\n",
    "        pass\n",
    "        \n",
    "    def put(self, value):\n",
    "        self.head.append(value)\n",
    "        pass\n",
    "\n",
    "queue = MyQueue()"
   ]
  },
  {
   "cell_type": "markdown",
   "metadata": {},
   "source": [
    "## Largest Rectangle   --- hard\n",
    "\n",
    "Skyline Real Estate Developers is planning to demolish a number of old, unoccupied buildings and construct a shopping mall in their place. Your task is to find the largest solid area in which the mall can be constructed."
   ]
  },
  {
   "cell_type": "code",
   "execution_count": 308,
   "metadata": {},
   "outputs": [],
   "source": [
    "def largestRectangle(h):\n",
    "    string = []\n",
    "    ans = len(h)\n",
    "    h.append(0)\n",
    "    for i in range(len(h)):\n",
    "        left_index = i\n",
    "        while len(string) > 0 and string[-1][0] >= h[i]:\n",
    "            last = string.pop()\n",
    "            # last <= (h[i], left_index)\n",
    "            left_index = last[1]\n",
    "            # rectangle width update\n",
    "            ans = max([ans, h[i] * (i + 1 - last[1]), last[0] * (i - last[1])])\n",
    "        string.append((h[i], left_index))\n",
    "    return ans"
   ]
  },
  {
   "cell_type": "code",
   "execution_count": 309,
   "metadata": {},
   "outputs": [
    {
     "data": {
      "text/plain": [
       "9"
      ]
     },
     "execution_count": 309,
     "metadata": {},
     "output_type": "execute_result"
    }
   ],
   "source": [
    "h = [1, 2, 3, 4, 5]\n",
    "largestRectangle(h)"
   ]
  },
  {
   "cell_type": "markdown",
   "metadata": {},
   "source": [
    "## Min Max Riddle --hard\n",
    "\n",
    "Given an integer array of size n, find the maximum of the minimum(s) of every window size in the array. The window size varies from 1 to n."
   ]
  },
  {
   "cell_type": "code",
   "execution_count": 310,
   "metadata": {},
   "outputs": [],
   "source": [
    "arr = [6, 3, 5, 1, 12]"
   ]
  },
  {
   "cell_type": "code",
   "execution_count": 311,
   "metadata": {},
   "outputs": [],
   "source": [
    "def riddle(arr):\n",
    "    ans = []\n",
    "    res = iter([min(arr[idx:idx+step]) for idx in range(0, len(arr) - step + 1)] for step in range(1, n+1))\n",
    "    for x in res: ans.append(max(x))\n",
    "    return ans"
   ]
  },
  {
   "cell_type": "code",
   "execution_count": 312,
   "metadata": {},
   "outputs": [
    {
     "data": {
      "text/plain": [
       "[12, 3, 3, 1, 1]"
      ]
     },
     "execution_count": 312,
     "metadata": {},
     "output_type": "execute_result"
    }
   ],
   "source": [
    "riddle(arr)\n",
    "\n",
    "## time-out with 2,3,4 case..."
   ]
  },
  {
   "cell_type": "markdown",
   "metadata": {},
   "source": [
    "## Castle on the Grid\n",
    "\n",
    "You are given a square grid with some cells open(.) and some blocked (X). Your playing piece can move along any row or column until it reaches the edge of the grid or a blocked cell. Given a grid, a start and an end position, determine the number of moves it will take to get to the end position."
   ]
  },
  {
   "cell_type": "code",
   "execution_count": 340,
   "metadata": {},
   "outputs": [],
   "source": [
    "startX, startY, goalX, goalY = 0, 0, 0, 2\n",
    "grid = ['.X.', '.X.', '...']"
   ]
  },
  {
   "cell_type": "code",
   "execution_count": 341,
   "metadata": {},
   "outputs": [
    {
     "name": "stdout",
     "output_type": "stream",
     "text": [
      "matrix form : 3 x 3\n"
     ]
    }
   ],
   "source": [
    "print(\"matrix form : {0} x {1}\".format(len(grid[0]), len(grid)))"
   ]
  },
  {
   "cell_type": "code",
   "execution_count": 348,
   "metadata": {},
   "outputs": [],
   "source": [
    "## stack and queue solution study"
   ]
  },
  {
   "cell_type": "code",
   "execution_count": null,
   "metadata": {},
   "outputs": [],
   "source": []
  }
 ],
 "metadata": {
  "kernelspec": {
   "display_name": "Python 3",
   "language": "python",
   "name": "python3"
  },
  "language_info": {
   "codemirror_mode": {
    "name": "ipython",
    "version": 3
   },
   "file_extension": ".py",
   "mimetype": "text/x-python",
   "name": "python",
   "nbconvert_exporter": "python",
   "pygments_lexer": "ipython3",
   "version": "3.7.4"
  }
 },
 "nbformat": 4,
 "nbformat_minor": 2
}
