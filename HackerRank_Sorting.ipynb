{
 "cells": [
  {
   "cell_type": "markdown",
   "metadata": {},
   "source": [
    "## Sorting: Bubble Sort\n",
    "\n",
    "Given an array of integers, sort the array in ascending order using the Bubble Sort algorithm above. Once sorted, print the following three lines\n",
    "\n",
    "Array is sorted in 3 swaps.  \n",
    "First Element: 1  \n",
    "Last Element: 6  "
   ]
  },
  {
   "cell_type": "code",
   "execution_count": 2,
   "metadata": {},
   "outputs": [
    {
     "data": {
      "text/plain": [
       "'for (int i = 0; i < n; i++) {\\n    \\n    for (int j = 0; j < n - 1; j++) {\\n        // Swap adjacent elements if they are in decreasing order\\n        if (a[j] > a[j + 1]) {\\n            swap(a[j], a[j + 1]);\\n        }\\n    }\\n    \\n}'"
      ]
     },
     "execution_count": 2,
     "metadata": {},
     "output_type": "execute_result"
    }
   ],
   "source": [
    "'''\n",
    "for (int i = 0; i < n; i++) {\n",
    "    \n",
    "    for (int j = 0; j < n - 1; j++) {\n",
    "        // Swap adjacent elements if they are in decreasing order\n",
    "        if (a[j] > a[j + 1]) {\n",
    "            swap(a[j], a[j + 1]);\n",
    "        }\n",
    "    }\n",
    "    \n",
    "}\n",
    "'''"
   ]
  },
  {
   "cell_type": "code",
   "execution_count": 16,
   "metadata": {},
   "outputs": [],
   "source": [
    "#!/bin/python3\n",
    "\n",
    "import math\n",
    "import os\n",
    "import random\n",
    "import re\n",
    "import sys\n",
    "\n",
    "# Complete the countSwaps function below.\n",
    "def countSwaps(a):\n",
    "    num_count = 0\n",
    "    for i in range(len(a)) :\n",
    "        for j in range(len(a) - 1) :\n",
    "            if a[j] > a[j+1] :\n",
    "                temp = a[j]\n",
    "                a[j] = a[j+1]\n",
    "                a[j+1] = temp\n",
    "                num_count += 1\n",
    "    first_element = a[0]\n",
    "    last_element = a[-1]\n",
    "    print('Array is sorted in {} swaps.'.format(num_count))\n",
    "    print('First Element: {}'.format(first_element))\n",
    "    print('Last Element: {}'.format(last_element))"
   ]
  },
  {
   "cell_type": "code",
   "execution_count": 17,
   "metadata": {},
   "outputs": [],
   "source": [
    "a = [6,4,1]"
   ]
  },
  {
   "cell_type": "code",
   "execution_count": 18,
   "metadata": {},
   "outputs": [
    {
     "name": "stdout",
     "output_type": "stream",
     "text": [
      "Array is sorted in 3 swaps.\n",
      "First Element: 1\n",
      "Last Element: 6\n"
     ]
    }
   ],
   "source": [
    "countSwaps(a)"
   ]
  },
  {
   "cell_type": "markdown",
   "metadata": {},
   "source": [
    "## Mark and Toys \n",
    "\n",
    "Mark and Jane are very happy after having their first child. Their son loves toys, so Mark wants to buy some. There are a number of different toys lying in front of him, tagged with their prices. Mark has only a certain amount to spend, and he wants to maximize the number of toys he buys with this money.\n",
    "\n",
    "마크와 제인은 첫번째 아들을 낳은 후 굉장히 행복하다. 아들이 장난감을 가지고 싶어해서 장난감을 사주고 싶어한다. 가격표가 붙은 많은 장난감들이 그의 앞에 놓여있다. 마크는 적정 지불할 돈밖에 없기때문에 그가 정해둔 돈 안에서 해결하고 싶다. "
   ]
  },
  {
   "cell_type": "code",
   "execution_count": 35,
   "metadata": {},
   "outputs": [],
   "source": [
    "# 장난감 가격표\n",
    "prices = [1, 12, 5, 111, 200, 1000, 10]\n",
    "# 보유한 돈\n",
    "k = 50"
   ]
  },
  {
   "cell_type": "code",
   "execution_count": 54,
   "metadata": {},
   "outputs": [],
   "source": [
    "import itertools\n",
    "\n",
    "def quick_sort(arr):\n",
    "    if len(arr) <= 1:\n",
    "        return arr\n",
    "    pivot = arr[len(arr) // 2]\n",
    "    lesser_arr, equal_arr, greater_arr = [], [], []\n",
    "    for num in arr:\n",
    "        if num < pivot:\n",
    "            lesser_arr.append(num)\n",
    "        elif num > pivot:\n",
    "            greater_arr.append(num)\n",
    "        else:\n",
    "            equal_arr.append(num)\n",
    "    return quick_sort(lesser_arr) + equal_arr + quick_sort(greater_arr)\n",
    "\n",
    "def maximumToys(prices, k):\n",
    "    # quick_sort 알고리즘 이용하여 빠르게 정렬\n",
    "    prices_sorted = quick_sort(prices)\n",
    "    # iterator 형태로 데이터 저장\n",
    "    iter_price = itertools.accumulate(prices_sorted)\n",
    "    # 누적값을 iterator형태로 저장해두고, \n",
    "    # 각 cnt번째 누적값을 next 로 이용하여 호출\n",
    "    accumulate_price = next(iter_price)\n",
    "    cnt = 0\n",
    "    while accumulate_price < k :\n",
    "        accumulate_price = next(iter_price)\n",
    "        cnt += 1\n",
    "    return cnt"
   ]
  },
  {
   "cell_type": "code",
   "execution_count": 55,
   "metadata": {},
   "outputs": [
    {
     "data": {
      "text/plain": [
       "4"
      ]
     },
     "execution_count": 55,
     "metadata": {},
     "output_type": "execute_result"
    }
   ],
   "source": [
    "maximumToys(prices, k)"
   ]
  },
  {
   "cell_type": "markdown",
   "metadata": {},
   "source": [
    "## Fraudulent Activity Notifications\n",
    "\n",
    "HackerLand National Bank has a simple policy for warning clients about possible fraudulent account activity. If the amount spent by a client on a particular day is greater than or equal to 2x the client's median spending for a trailing number of days, they send the client a notification about potential fraud. The bank doesn't send the client any notifications until they have at least that trailing number of prior days' transaction data."
   ]
  },
  {
   "cell_type": "code",
   "execution_count": 67,
   "metadata": {},
   "outputs": [],
   "source": [
    "expenditure = [2, 3, 4, 2, 3, 6, 8, 4, 5]\n",
    "d = 5"
   ]
  },
  {
   "cell_type": "code",
   "execution_count": 128,
   "metadata": {},
   "outputs": [],
   "source": [
    "## 아래는, median 패키지를 이용하여 매번 찾는 알고리즘 구조, 오류발생으로 인하여 대체안 검색"
   ]
  },
  {
   "cell_type": "code",
   "execution_count": 129,
   "metadata": {},
   "outputs": [],
   "source": [
    "import statistics\n",
    "\n",
    "def activityNotifications(expenditure, d):\n",
    "    expend_list = iter([expenditure[k:k+d+1] for k in range(len(expenditure) - d)])\n",
    "    current_expend = next(expend_list)\n",
    "    compared = current_expend.pop()\n",
    "    median_value = statistics.median(current_expend)\n",
    "    ## set initial value\n",
    "    ans = 0\n",
    "    while current_expend :\n",
    "        try :\n",
    "            if median_value * 2 <= compared :\n",
    "                ans += 1\n",
    "            current_expend = next(expend_list)\n",
    "            compared = current_expend.pop()\n",
    "            median_value = float(statistics.median(current_expend))\n",
    "        except :\n",
    "            break\n",
    "    return ans\n"
   ]
  },
  {
   "cell_type": "code",
   "execution_count": 131,
   "metadata": {},
   "outputs": [],
   "source": [
    "# https://soooprmx.com/archives/8722\n",
    "# 참고하여 작성, 이진탐색 알고리즘 bisect 공부 필요성 느낌"
   ]
  },
  {
   "cell_type": "code",
   "execution_count": 132,
   "metadata": {},
   "outputs": [],
   "source": [
    "import bisect\n",
    "\n",
    "def activityNotifications(expenditure, d): \n",
    "    count = 0 \n",
    "    trailing = expenditure[0:d] \n",
    "    trailing.sort() \n",
    "    days = expenditure[d:] \n",
    "    for i in range(len(days)): \n",
    "        median = trailing[int((d-1)/2)] if d%2 == 1 else (trailing[int(d/2)] + trailing[int(d/2-1)])/2 \n",
    "        if days[i] >= 2 * median: \n",
    "            count += 1 \n",
    "        ## trailing 에 expenditure[i]를 삽입함.\n",
    "        # 리스트 a에서 값 x가 들어갈 인덱스를 구한다.\n",
    "        # 같은값이 있으면, 왼쪽에 위치시킴.\n",
    "        delIdx = bisect.bisect_left(trailing,expenditure[i]) \n",
    "        trailing.pop(delIdx) \n",
    "        bisect.insort(trailing, days[i]) \n",
    "    return count"
   ]
  },
  {
   "cell_type": "code",
   "execution_count": 133,
   "metadata": {},
   "outputs": [
    {
     "data": {
      "text/plain": [
       "2"
      ]
     },
     "execution_count": 133,
     "metadata": {},
     "output_type": "execute_result"
    }
   ],
   "source": [
    "activityNotifications(expenditure, d)"
   ]
  },
  {
   "cell_type": "markdown",
   "metadata": {},
   "source": [
    "## Merge Sort: Counting Inversions\n",
    "\n",
    "Complete the function countInversions in the editor below. It must return an integer representing the number of inversions required to sort the array.\n",
    "countInversions has the following parameter(s)"
   ]
  },
  {
   "cell_type": "code",
   "execution_count": 163,
   "metadata": {},
   "outputs": [],
   "source": [
    "def countInversions(lst):\n",
    "    return merge_sort(lst)[1]\n",
    "\n",
    "def merge_sort(lst):\n",
    "    if len(lst) <= 1: return lst, 0\n",
    "    middle = int( len(lst) / 2 )\n",
    "    left, a = merge_sort(lst[:middle])\n",
    "    right, b = merge_sort(lst[middle:])\n",
    "    result, c = merge_count_split(left, right)\n",
    "    return result, (a + b + c)\n",
    "\n",
    "def merge_count_split(left, right):\n",
    "    result = []\n",
    "    count = 0\n",
    "    i, j = 0, 0\n",
    "    left_len = len(left)\n",
    "    right_len = len(right)\n",
    "    while i < left_len and j < right_len:\n",
    "        if left[i] <= right[j]:\n",
    "            result.append(left[i])\n",
    "            i += 1\n",
    "        else:\n",
    "            result.append(right[j])\n",
    "            count += left_len - i\n",
    "            j += 1    \n",
    "    return result + left[i:] + right[j:] , count"
   ]
  },
  {
   "cell_type": "code",
   "execution_count": 164,
   "metadata": {},
   "outputs": [
    {
     "data": {
      "text/plain": [
       "4"
      ]
     },
     "execution_count": 164,
     "metadata": {},
     "output_type": "execute_result"
    }
   ],
   "source": [
    "arr = [2, 1, 3, 1, 2]\n",
    "countInversions(arr)"
   ]
  },
  {
   "cell_type": "code",
   "execution_count": 165,
   "metadata": {},
   "outputs": [
    {
     "data": {
      "text/plain": [
       "[1, 2, 3, 2, 4]"
      ]
     },
     "execution_count": 165,
     "metadata": {},
     "output_type": "execute_result"
    }
   ],
   "source": [
    "[1, 2, 3] + [2, 4]"
   ]
  },
  {
   "cell_type": "markdown",
   "metadata": {},
   "source": [
    "## Sorting: Comparator\n",
    "\n",
    "Comparators are used to compare two objects. In this challenge, you'll create a comparator and use it to sort an array. The Player class is provided in the editor below. It has two fields:\n",
    "\n",
    "score & name\n",
    "\n",
    "when sorting in ascending order, a comparator function returns -1 if a<b, 0 if a==b, 1 if a>b\n"
   ]
  },
  {
   "cell_type": "code",
   "execution_count": null,
   "metadata": {},
   "outputs": [],
   "source": [
    "from functools import cmp_to_key\n",
    "\n",
    "class Player:\n",
    "    def __init__(self, name, score):\n",
    "        self.name = name\n",
    "        self.score = score\n",
    "\n",
    "    def comparator(a, b):\n",
    "        if a.score == b.score:\n",
    "            if a.name > b.name:\n",
    "                return 1\n",
    "            else:\n",
    "                return -1\n",
    "        else:\n",
    "            return b.score - a.score"
   ]
  }
 ],
 "metadata": {
  "kernelspec": {
   "display_name": "Python 3",
   "language": "python",
   "name": "python3"
  },
  "language_info": {
   "codemirror_mode": {
    "name": "ipython",
    "version": 3
   },
   "file_extension": ".py",
   "mimetype": "text/x-python",
   "name": "python",
   "nbconvert_exporter": "python",
   "pygments_lexer": "ipython3",
   "version": "3.7.4"
  }
 },
 "nbformat": 4,
 "nbformat_minor": 2
}
