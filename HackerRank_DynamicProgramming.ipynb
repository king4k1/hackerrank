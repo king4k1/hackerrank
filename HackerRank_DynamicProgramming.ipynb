{
 "cells": [
  {
   "cell_type": "markdown",
   "metadata": {},
   "source": [
    "## Max Array Sum\n",
    "\n",
    "Given an array of integers, find the subset of non-adjacent elements with the maximum sum. Calculate the sum of that subset.\n",
    "For example, given an array arr = [-2, 1, 3, -4, 5] we have the following possible subsets:"
   ]
  },
  {
   "cell_type": "code",
   "execution_count": 2,
   "metadata": {},
   "outputs": [],
   "source": [
    "# Subset      Sum\n",
    "# [-2, 3, 5]   6\n",
    "# [-2, 3]      1\n",
    "# [-2, -4]    -6\n",
    "# [-2, 5]      3\n",
    "# [1, -4]     -3\n",
    "# [1, 5]       6\n",
    "# [3, 5]       8\n",
    "\n",
    "# Our maximum subset sum is 8."
   ]
  },
  {
   "cell_type": "code",
   "execution_count": 15,
   "metadata": {},
   "outputs": [],
   "source": [
    "## 다이나믹 프로그래밍 : 알고리즘을 짤 때 분할정복 기법을 사용하는 경우가 많습니다. \n",
    "# 큰 문제를 한 번에 해결하기 힘들 때 작은 여러 개의 문제로 나누어서 푸는 기법인데요. \n",
    "# 작은 문제들을 풀다보면 같은 문제들을 반복해서 푸는 경우가 생깁니다. \n",
    "# 그 문제들을 매번 재계산하지 않고 값을 저장해두었다가 재사용하는 기법이 동적 프로그래밍입니다.\n",
    "\n",
    "## 점화식 형태"
   ]
  },
  {
   "cell_type": "code",
   "execution_count": 11,
   "metadata": {},
   "outputs": [],
   "source": [
    "arr = [-2, 1, 3, -4, 5]\n",
    "# non-adjacent elements\n",
    "# len(arr) - 2, -->  1, 2, 3"
   ]
  },
  {
   "cell_type": "code",
   "execution_count": 12,
   "metadata": {},
   "outputs": [],
   "source": [
    "def maxSubsetSum(arr):\n",
    "    if len(arr) == 1:\n",
    "        return arr[0]\n",
    "    dp = [arr[0], max(arr[:2])] + [0]*(len(arr)-2)\n",
    "    for i in range(2, len(arr)):\n",
    "        dp[i] = max(arr[i], dp[i-1], dp[i-2]+arr[i])\n",
    "    return dp[-1]"
   ]
  },
  {
   "cell_type": "code",
   "execution_count": 14,
   "metadata": {},
   "outputs": [
    {
     "data": {
      "text/plain": [
       "8"
      ]
     },
     "execution_count": 14,
     "metadata": {},
     "output_type": "execute_result"
    }
   ],
   "source": [
    "maxSubsetSum(arr)"
   ]
  },
  {
   "cell_type": "markdown",
   "metadata": {},
   "source": [
    "## Abbreviation \n",
    "\n",
    "1. Capitalize zero or more of a's lowercase letters\n",
    "2. Delete all of the remaining lowercase letters in a.\n",
    "\n",
    "Given two strings, a and b, determine if it's possible to make a equal to b as described. If so, print YES on a new line. Otherwise, print NO."
   ]
  },
  {
   "cell_type": "code",
   "execution_count": 72,
   "metadata": {},
   "outputs": [],
   "source": [
    "## 7 / 16 test."
   ]
  },
  {
   "cell_type": "code",
   "execution_count": 69,
   "metadata": {},
   "outputs": [],
   "source": [
    "from collections import Counter\n",
    "\n",
    "def abbreviation(a, b):\n",
    "    res = len(Counter(b) - Counter(a.upper()))\n",
    "    if len(a) < len(b):\n",
    "        word = \"NO\"  \n",
    "    elif res == 0:\n",
    "        for letter in b :\n",
    "            a = a.replace(letter, \"\")\n",
    "            a = a.replace(letter.lower(), \"\")\n",
    "        if len([aa for aa in a if aa.isupper()]) > 0:\n",
    "            word = \"NO\"\n",
    "        else:\n",
    "            word = \"YES\" \n",
    "    else:\n",
    "        word = \"NO\"\n",
    "    return(word)"
   ]
  },
  {
   "cell_type": "code",
   "execution_count": 71,
   "metadata": {},
   "outputs": [
    {
     "data": {
      "text/plain": [
       "'YES'"
      ]
     },
     "execution_count": 71,
     "metadata": {},
     "output_type": "execute_result"
    }
   ],
   "source": [
    "a = 'AbcDE'\n",
    "b = 'ABDE'\n",
    "abbreviation(a, b)"
   ]
  },
  {
   "cell_type": "code",
   "execution_count": 70,
   "metadata": {},
   "outputs": [
    {
     "data": {
      "text/plain": [
       "'NO'"
      ]
     },
     "execution_count": 70,
     "metadata": {},
     "output_type": "execute_result"
    }
   ],
   "source": [
    "a = 'beFgH'\n",
    "b = 'EFG'\n",
    "abbreviation(a, b)"
   ]
  },
  {
   "cell_type": "markdown",
   "metadata": {},
   "source": [
    "## Candies\n",
    "\n",
    "Alice is a kindergarten teacher. She wants to give some candies to the children in her class.  All the children sit in a line and each of them has a rating score according to his or her performance in the class.  Alice wants to give at least 1 candy to each child. If two children sit next to each other, then the one with the higher rating must get more candies. Alice wants to minimize the total number of candies she must buy.\n",
    "For example, assume her students' ratings are [4, 6, 4, 5, 6, 2]. She gives the students candy in the following minimal amounts: [1, 2, 1, 2, 3, 1]. She must buy a minimum of 10 candies."
   ]
  },
  {
   "cell_type": "code",
   "execution_count": 151,
   "metadata": {},
   "outputs": [],
   "source": [
    "arr = [4, 6, 4, 5, 6, 2]\n",
    "n = 6"
   ]
  },
  {
   "cell_type": "code",
   "execution_count": 162,
   "metadata": {},
   "outputs": [],
   "source": [
    "def candies(n, arr):\n",
    "    count = [1]\n",
    "    # 앞쪽부터 한번 진행\n",
    "    # 두 값을 비교하여 이전값보다 크면 이전값에 1 더하여, 아니면 1\n",
    "    for i,x in enumerate(arr[1:],1):\n",
    "        if x <= arr[i-1]:\n",
    "            count.append(1)\n",
    "        else:\n",
    "            count.append(count[i-1]+1)\n",
    "    # 뒤쪽부터 다시 한번더.. count에 대하여..\n",
    "    for i,x in enumerate(arr[-2::-1],2):\n",
    "        idx = n-i\n",
    "        if x > arr[idx+1]:\n",
    "            count[idx] = max(count[idx], count[idx+1]+1)\n",
    "        else:\n",
    "            count[idx] = max(count[idx], 1)\n",
    "    return sum(count)"
   ]
  },
  {
   "cell_type": "code",
   "execution_count": 163,
   "metadata": {},
   "outputs": [
    {
     "data": {
      "text/plain": [
       "10"
      ]
     },
     "execution_count": 163,
     "metadata": {},
     "output_type": "execute_result"
    }
   ],
   "source": [
    "candies(n, arr)"
   ]
  },
  {
   "cell_type": "code",
   "execution_count": null,
   "metadata": {},
   "outputs": [],
   "source": []
  }
 ],
 "metadata": {
  "kernelspec": {
   "display_name": "Python 3",
   "language": "python",
   "name": "python3"
  },
  "language_info": {
   "codemirror_mode": {
    "name": "ipython",
    "version": 3
   },
   "file_extension": ".py",
   "mimetype": "text/x-python",
   "name": "python",
   "nbconvert_exporter": "python",
   "pygments_lexer": "ipython3",
   "version": "3.7.4"
  }
 },
 "nbformat": 4,
 "nbformat_minor": 2
}
