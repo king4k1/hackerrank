{
 "cells": [
  {
   "cell_type": "markdown",
   "metadata": {},
   "source": [
    "## Strings: Making Anagrams\n",
    "\n",
    "Alice is taking a cryptography class and finding anagrams to be very useful. We consider two strings to be anagrams of each other if the first string's letters can be rearranged to form the second string. In other words, both strings must contain the same exact letters in the same exact frequency For example, bacdc and dcbac are anagrams, but bacdc and dcbad are not."
   ]
  },
  {
   "cell_type": "code",
   "execution_count": 7,
   "metadata": {},
   "outputs": [],
   "source": [
    "import math\n",
    "import os\n",
    "import random\n",
    "import re\n",
    "import sys\n",
    "from collections import Counter"
   ]
  },
  {
   "cell_type": "code",
   "execution_count": 8,
   "metadata": {},
   "outputs": [],
   "source": [
    "a = 'fcrxzwscanmligyxyvym'\n",
    "b = 'jxwtrhvujlmrpdoqbisbwhmgpmeoke'"
   ]
  },
  {
   "cell_type": "code",
   "execution_count": 14,
   "metadata": {},
   "outputs": [],
   "source": [
    "def makeAnagram(a, b):\n",
    "    a_b = sum((Counter(a) - Counter(b)).values())\n",
    "    b_a = sum((Counter(b) - Counter(a)).values())\n",
    "    return a_b + b_a"
   ]
  },
  {
   "cell_type": "code",
   "execution_count": 15,
   "metadata": {},
   "outputs": [
    {
     "data": {
      "text/plain": [
       "30"
      ]
     },
     "execution_count": 15,
     "metadata": {},
     "output_type": "execute_result"
    }
   ],
   "source": [
    "makeAnagram(a, b)"
   ]
  },
  {
   "cell_type": "markdown",
   "metadata": {},
   "source": [
    "## Alternating Characters\n",
    "\n",
    "You are given a string containing characters A and B only. Your task is to change it into a string such that there are no matching adjacent characters. To do this, you are allowed to delete zero or more characters in the string.\n",
    "Your task is to find the minimum number of required deletions."
   ]
  },
  {
   "cell_type": "code",
   "execution_count": 56,
   "metadata": {},
   "outputs": [],
   "source": [
    "s = 'AAAABBBAAA'"
   ]
  },
  {
   "cell_type": "code",
   "execution_count": 57,
   "metadata": {},
   "outputs": [],
   "source": [
    "def alternatingCharacters(s):\n",
    "    ans = 0 \n",
    "    change_n = 0\n",
    "    for idx, letter in enumerate(s[1:]) :\n",
    "        if s[idx] == letter :\n",
    "            ans += 1\n",
    "        else :\n",
    "            change_n += 1\n",
    "    return ans "
   ]
  },
  {
   "cell_type": "code",
   "execution_count": 58,
   "metadata": {},
   "outputs": [
    {
     "data": {
      "text/plain": [
       "7"
      ]
     },
     "execution_count": 58,
     "metadata": {},
     "output_type": "execute_result"
    }
   ],
   "source": [
    "alternatingCharacters(s)"
   ]
  },
  {
   "cell_type": "code",
   "execution_count": 59,
   "metadata": {},
   "outputs": [
    {
     "data": {
      "text/plain": [
       "5"
      ]
     },
     "execution_count": 59,
     "metadata": {},
     "output_type": "execute_result"
    }
   ],
   "source": [
    "s = 'AAAAAA'\n",
    "alternatingCharacters(s)"
   ]
  },
  {
   "cell_type": "markdown",
   "metadata": {},
   "source": [
    "## Sherlock and the Valid String\n",
    "\n",
    "Sherlock considers a string to be valid if all characters of the string appear the same number of times. It is also valid if he can remove just 1 character at 1 index in the string, and the remaining characters will occur the same number of times. Given a string s, determine if it is valid. If so, return YES, otherwise return NO."
   ]
  },
  {
   "cell_type": "code",
   "execution_count": 60,
   "metadata": {},
   "outputs": [],
   "source": [
    "s = 'aabbccddeefghi'"
   ]
  },
  {
   "cell_type": "code",
   "execution_count": 117,
   "metadata": {},
   "outputs": [],
   "source": [
    "from collections import Counter\n",
    "\n",
    "def isValid(s):\n",
    "    s_dict = Counter(s)\n",
    "    s_dict_count = Counter(s_dict.values())\n",
    "    res = \"NO\"\n",
    "    if len(s_dict.keys()) == 1: \n",
    "        res = \"YES\"\n",
    "    elif len(s_dict_count) == 1 : \n",
    "        res = \"YES\"\n",
    "    elif len(s_dict_count) == 2 :\n",
    "        first = list(set(s_dict.values()))[0]\n",
    "        second = list(set(s_dict.values()))[1]\n",
    "        if first == 1 and s_dict_count[first] == 1 :\n",
    "            res = \"YES\"\n",
    "        elif s_dict_count[second] == 1 and second - first == 1:\n",
    "            res = \"YES\"\n",
    "        else :\n",
    "            pass\n",
    "    else :\n",
    "        res = \"NO\"\n",
    "    return res"
   ]
  },
  {
   "cell_type": "code",
   "execution_count": 118,
   "metadata": {},
   "outputs": [
    {
     "data": {
      "text/plain": [
       "'NO'"
      ]
     },
     "execution_count": 118,
     "metadata": {},
     "output_type": "execute_result"
    }
   ],
   "source": [
    "s = 'aabbccddeefghi'\n",
    "isValid(s)"
   ]
  },
  {
   "cell_type": "markdown",
   "metadata": {},
   "source": [
    "## Special String Again\n",
    "\n",
    "A string is said to be a special string if either of two conditions is met:\n",
    "1. All of the characters are the same, e.g. aaa.\n",
    "2. All characters except the middle one are the same, e.g. aadaa."
   ]
  },
  {
   "cell_type": "code",
   "execution_count": 178,
   "metadata": {},
   "outputs": [],
   "source": [
    "from collections import Counter\n",
    "\n",
    "\n",
    "def substrCount(n, s):\n",
    "    if len(Counter(s)) >= 2 :\n",
    "        count = n\n",
    "        for i, char in enumerate(s) :\n",
    "            diff_char_idx = None\n",
    "            for j in range(i+1, n) :\n",
    "                if char == s[j] :\n",
    "                    if diff_char_idx is None:\n",
    "                        count += 1\n",
    "                    elif j - diff_char_idx == diff_char_idx - i :\n",
    "                        count += 1\n",
    "                        break\n",
    "                else :\n",
    "                    if diff_char_idx is None :\n",
    "                        diff_char_idx = j\n",
    "                    else :\n",
    "                        break\n",
    "    else : \n",
    "        count = int(n*(n+1)/2)\n",
    "    return count"
   ]
  },
  {
   "cell_type": "code",
   "execution_count": 179,
   "metadata": {},
   "outputs": [
    {
     "data": {
      "text/plain": [
       "10"
      ]
     },
     "execution_count": 179,
     "metadata": {},
     "output_type": "execute_result"
    }
   ],
   "source": [
    "s = 'aaaa'\n",
    "n = 4\n",
    "substrCount(n, s)"
   ]
  },
  {
   "cell_type": "markdown",
   "metadata": {},
   "source": [
    "## Common Child\n",
    "\n",
    "A string is said to be a child of a another string if it can be formed by deleting 0 or more characters from the other string. Given two strings of equal length, what's the longest string that can be constructed such that it is a child of both?\n",
    "For example, ABCD and ABDC have two children with maximum length 3, ABC and ABD. They can be formed by eliminating either the D or C from both strings. Note that we will not consider ABCD as a common child because we can't rearrange characters and ABCD != ABDC.\n",
    "\n",
    "s1, s2 are two equal length strings"
   ]
  },
  {
   "cell_type": "code",
   "execution_count": 192,
   "metadata": {},
   "outputs": [],
   "source": [
    "s1 = 'SHINCHAN'\n",
    "s2 = 'NOHARAAA'"
   ]
  },
  {
   "cell_type": "code",
   "execution_count": 208,
   "metadata": {},
   "outputs": [],
   "source": [
    "def commonChild(s1, s2):\n",
    "    # construct new strings from the input, only with common characters\n",
    "    common1 = ''.join([c for c in s1 if c in s2])\n",
    "    common2 = ''.join([c for c in s2 if c in s1])\n",
    "    \n",
    "    print(common1, common2)\n",
    "    # no common chars, then just return with []\n",
    "    if not common1 or not common2:\n",
    "        return len(common1)\n",
    "    # O(n^2)\n",
    "    # try every substring (with initial order of chars) of common1 \n",
    "    # if it's a substring of common2. \n",
    "    # If it is, construct list of substrings\n",
    "    subcommon = []\n",
    "    mx = 0\n",
    "    for i in range(len(common1)):\n",
    "        j = i\n",
    "        while (j < len(common1)):\n",
    "            sub = common1[i:j+1]\n",
    "            if sub in common2:\n",
    "                subcommon.append(sub)\n",
    "            j += 1\n",
    "    print('subcommon=',subcommon)    \n",
    "    # find the longes substring, and return it.\n",
    "    mxsub = max(subcommon, key=len) \n",
    "    return len(mxsub)"
   ]
  },
  {
   "cell_type": "code",
   "execution_count": 209,
   "metadata": {},
   "outputs": [
    {
     "name": "stdout",
     "output_type": "stream",
     "text": [
      "HNHAN NHAAAA\n",
      "subcommon= ['H', 'N', 'NH', 'NHA', 'H', 'HA', 'A', 'N']\n"
     ]
    },
    {
     "data": {
      "text/plain": [
       "3"
      ]
     },
     "execution_count": 209,
     "metadata": {},
     "output_type": "execute_result"
    }
   ],
   "source": [
    "commonChild(s1, s2)"
   ]
  },
  {
   "cell_type": "code",
   "execution_count": null,
   "metadata": {},
   "outputs": [],
   "source": [
    "## 시간복잡도 해결해야함. 시간제한."
   ]
  },
  {
   "cell_type": "code",
   "execution_count": 226,
   "metadata": {},
   "outputs": [],
   "source": [
    "def commonChild(s1, s2):\n",
    "    matrix = [[0 for i in range(len(s2) + 1)] for j in range(len(s1) + 1)]\n",
    "\n",
    "    for row_i in range(len(s1)):\n",
    "        for col_i in range(len(s2)):\n",
    "            if s1[row_i] == s2[col_i]:\n",
    "                matrix[row_i+1][col_i+1] = matrix[row_i][col_i] + 1\n",
    "            else:\n",
    "                matrix[row_i+1][col_i+1] = max(matrix[row_i+1][col_i], matrix[row_i][col_i+1])\n",
    "    return matrix, matrix[len(s1)][len(s2)]"
   ]
  },
  {
   "cell_type": "code",
   "execution_count": 227,
   "metadata": {},
   "outputs": [
    {
     "data": {
      "text/plain": [
       "([[0, 0, 0, 0, 0, 0, 0, 0, 0],\n",
       "  [0, 0, 0, 0, 0, 0, 0, 0, 0],\n",
       "  [0, 0, 0, 1, 1, 1, 1, 1, 1],\n",
       "  [0, 0, 0, 1, 1, 1, 1, 1, 1],\n",
       "  [0, 1, 1, 1, 1, 1, 1, 1, 1],\n",
       "  [0, 1, 1, 1, 1, 1, 1, 1, 1],\n",
       "  [0, 1, 1, 2, 2, 2, 2, 2, 2],\n",
       "  [0, 1, 1, 2, 3, 3, 3, 3, 3],\n",
       "  [0, 1, 1, 2, 3, 3, 3, 3, 3]],\n",
       " 3)"
      ]
     },
     "execution_count": 227,
     "metadata": {},
     "output_type": "execute_result"
    }
   ],
   "source": [
    "commonChild(s1, s2)"
   ]
  },
  {
   "cell_type": "code",
   "execution_count": null,
   "metadata": {},
   "outputs": [],
   "source": []
  }
 ],
 "metadata": {
  "kernelspec": {
   "display_name": "Python 3",
   "language": "python",
   "name": "python3"
  },
  "language_info": {
   "codemirror_mode": {
    "name": "ipython",
    "version": 3
   },
   "file_extension": ".py",
   "mimetype": "text/x-python",
   "name": "python",
   "nbconvert_exporter": "python",
   "pygments_lexer": "ipython3",
   "version": "3.7.4"
  }
 },
 "nbformat": 4,
 "nbformat_minor": 2
}
