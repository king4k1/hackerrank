{
 "cells": [
  {
   "cell_type": "markdown",
   "metadata": {},
   "source": [
    "## Hash Tables: Ransom Note"
   ]
  },
  {
   "cell_type": "markdown",
   "metadata": {},
   "source": [
    "Harold is a kidnapper who wrote a ransom note, but now he is worried it will be traced back to him through his handwriting. He found a magazine and wants to know if he can cut out whole words from it and use them to create an untraceable replica of his ransom note. The words in his note are case-sensitive and he must use only whole words available in the magazine. He cannot use substrings or concatenation to create the words he needs.\n",
    "Given the words in the magazine and the words in the ransom note, print Yes if he can replicate his ransom note exactly using whole words from the magazine; otherwise, print No.\n",
    "For example, the note is \"Attack at dawn\". The magazine contains only \"attack at dawn\". The magazine has all the right words, but there's a case mismatch. The answer is No"
   ]
  },
  {
   "cell_type": "code",
   "execution_count": 21,
   "metadata": {},
   "outputs": [],
   "source": [
    "from collections import Counter\n",
    "\n",
    "def checkMagazine(magazine, ransom):\n",
    "    ran = Counter(ransom)\n",
    "    mag = Counter(magazine)\n",
    "    if len(ran - mag) == 0 :\n",
    "        print (\"Yes\")\n",
    "    else :\n",
    "        print (\"No\")"
   ]
  },
  {
   "cell_type": "code",
   "execution_count": 24,
   "metadata": {},
   "outputs": [
    {
     "data": {
      "text/plain": [
       "Counter({'a': 2})"
      ]
     },
     "execution_count": 24,
     "metadata": {},
     "output_type": "execute_result"
    }
   ],
   "source": [
    "Counter(['a', 'b', 'a', 'a', 'c']) - Counter(['a', 'b', 'c'])"
   ]
  },
  {
   "cell_type": "markdown",
   "metadata": {},
   "source": [
    "## Two Strings\n",
    "\n",
    "Given two strings, determine if they share a common substring. A substring may be as small as one character.\n",
    "For example, the words \"a\", \"and\", \"art\" share the common substring . The words \"be\" and \"cat\" do not share a substring."
   ]
  },
  {
   "cell_type": "code",
   "execution_count": 25,
   "metadata": {},
   "outputs": [],
   "source": [
    "s1 = 'hello'\n",
    "s2 = 'world'"
   ]
  },
  {
   "cell_type": "code",
   "execution_count": 28,
   "metadata": {},
   "outputs": [
    {
     "data": {
      "text/plain": [
       "Counter({'h': 1, 'e': 1, 'l': 1})"
      ]
     },
     "execution_count": 28,
     "metadata": {},
     "output_type": "execute_result"
    }
   ],
   "source": [
    "Counter(s1) - Counter(s2)"
   ]
  },
  {
   "cell_type": "code",
   "execution_count": 31,
   "metadata": {},
   "outputs": [],
   "source": [
    "from collections import Counter\n",
    "\n",
    "def twoStrings(s1, s2):\n",
    "    # print(s1, s2)\n",
    "    if Counter(s1) == (Counter(s1) - Counter(s2)) :\n",
    "        print (\"YES\")\n",
    "    else :\n",
    "        print (\"NO\")"
   ]
  },
  {
   "cell_type": "code",
   "execution_count": 35,
   "metadata": {},
   "outputs": [
    {
     "name": "stdout",
     "output_type": "stream",
     "text": [
      "abababa\n",
      "bababdasfadsfa\n"
     ]
    }
   ],
   "source": [
    "s1 = input()\n",
    "s2 = input()"
   ]
  },
  {
   "cell_type": "code",
   "execution_count": 36,
   "metadata": {},
   "outputs": [
    {
     "name": "stdout",
     "output_type": "stream",
     "text": [
      "No\n"
     ]
    }
   ],
   "source": [
    "twoStrings(s1, s2)"
   ]
  },
  {
   "cell_type": "markdown",
   "metadata": {},
   "source": [
    "## Sherlock and Anagrams\n",
    "\n",
    "Two strings are anagrams of each other if the letters of one string can be rearranged to form the other string. Given a string, find the number of pairs of substrings of the string that are anagrams of each other."
   ]
  },
  {
   "cell_type": "code",
   "execution_count": 64,
   "metadata": {},
   "outputs": [],
   "source": [
    "from collections import Counter\n",
    "from itertools import combinations\n",
    "\n",
    "def sherlockAndAnagrams(s):\n",
    "    count = []\n",
    "    for i in range(1,len(s)+1):\n",
    "        a = [\"\".join(sorted(s[j:j+i])) for j in range(len(s)-i+1)]\n",
    "        b = Counter(a)\n",
    "        count.append(sum([len(list(combinations(['a']*b[j],2))) for j in b]))\n",
    "    return sum(count)"
   ]
  },
  {
   "cell_type": "code",
   "execution_count": 74,
   "metadata": {},
   "outputs": [],
   "source": [
    "## 어렵지만, 대충은 나오는 index들을 붙여서 정렬하여 hash자료구조에 저장\n",
    "## 그 다음, 각 key(단어)에 해당하는 value값이 1 이면 0, 2이면 조합으로 계산하게 함수작성"
   ]
  },
  {
   "cell_type": "code",
   "execution_count": 73,
   "metadata": {},
   "outputs": [
    {
     "name": "stdout",
     "output_type": "stream",
     "text": [
      "['a', 'b', 'b', 'a']\n",
      "['ab', 'bb', 'ab']\n",
      "['abb', 'abb']\n",
      "['aabb']\n"
     ]
    }
   ],
   "source": [
    "s = 'abba'\n",
    "for i in range(1,len(s)+1):\n",
    "    a = [\"\".join(sorted(s[j:j+i]))광민 for j in range(len(s)-i+1)]\n",
    "    print(a)\n",
    "    b = Counter(a)"
   ]
  },
  {
   "cell_type": "code",
   "execution_count": 75,
   "metadata": {},
   "outputs": [
    {
     "data": {
      "text/plain": [
       "4"
      ]
     },
     "execution_count": 75,
     "metadata": {},
     "output_type": "execute_result"
    }
   ],
   "source": [
    "sherlockAndAnagrams(s)"
   ]
  },
  {
   "cell_type": "markdown",
   "metadata": {},
   "source": [
    "## Count Triplets\n",
    "\n",
    "You are given an array and you need to find number of tripets of indices (i, j, k)\n",
    "such that the elements at those indices are in geometric progression for a given common ratio r"
   ]
  },
  {
   "cell_type": "code",
   "execution_count": 124,
   "metadata": {},
   "outputs": [],
   "source": [
    "arr = [1, 3, 9, 9, 27, 81]\n",
    "r = 3"
   ]
  },
  {
   "cell_type": "code",
   "execution_count": 192,
   "metadata": {},
   "outputs": [],
   "source": [
    "from collections import Counter\n",
    "from itertools import combinations\n",
    "\n",
    "def countTriplets(arr, r):\n",
    "    ## unique한 값만 딕셔너리구조로 가져옴 \n",
    "    arr.sort()\n",
    "    count_dict = Counter(arr)\n",
    "    # key값들을 이용하여 unique한 데이터 구조 제작\n",
    "    full = [x for x in count_dict.keys() if x % r == 0 or x == 1]\n",
    "    # 3개씩 뽑는 것이기 때문에, full의 길이에서 2를 제외한 수만큼 자료쌍이 생김\n",
    "    comb_set = []\n",
    "    for x in list(combinations(full, 3)) :\n",
    "        if x[0] * r == x[1] and x[1] * r == x[2] :\n",
    "            comb_set.append(x)\n",
    "    # comb_set에다가 자료를 저장한 후, 각 count_dict에서의 값을 이용하여 곱셈 후 합산\n",
    "    ans = 0\n",
    "    for each in comb_set :\n",
    "        ans += count_dict[each[0]]*count_dict[each[1]]*count_dict[each[2]]\n",
    "    return ans"
   ]
  },
  {
   "cell_type": "code",
   "execution_count": 186,
   "metadata": {},
   "outputs": [
    {
     "data": {
      "text/plain": [
       "4"
      ]
     },
     "execution_count": 186,
     "metadata": {},
     "output_type": "execute_result"
    }
   ],
   "source": [
    "countTriplets(arr, r)"
   ]
  },
  {
   "cell_type": "code",
   "execution_count": 199,
   "metadata": {},
   "outputs": [],
   "source": [
    "def countTriplets(arr, r):\n",
    "    buf = dict()\n",
    "    count = 0 \n",
    "    for v in reversed(arr):\n",
    "        v2 = v*r\n",
    "        ## v x r 을 v2로 정의한 후,\n",
    "        ## 기본 dictionary인 buf에서의 v값은 0으로 정의\n",
    "        ## reversed(arr)로 진행한 이유는, 최고단부터 진행하려고 ...\n",
    "        buf.setdefault(v, [0, 0])\n",
    "        \n",
    "        if v2 in buf:\n",
    "            count += buf[v2][1]\n",
    "        \n",
    "        if v2 in buf:\n",
    "            buf[v][1] += buf[v2][0]\n",
    "        \n",
    "        buf[v][0] += 1\n",
    "        # print(v, buf, count)\n",
    "    return count"
   ]
  },
  {
   "cell_type": "code",
   "execution_count": 200,
   "metadata": {
    "scrolled": true
   },
   "outputs": [
    {
     "data": {
      "text/plain": [
       "4"
      ]
     },
     "execution_count": 200,
     "metadata": {},
     "output_type": "execute_result"
    }
   ],
   "source": [
    "countTriplets(arr, r)"
   ]
  },
  {
   "cell_type": "markdown",
   "metadata": {},
   "source": [
    "## Frequency Queries\n",
    "\n",
    "You are given  queries. Each query is of the form two integers described below: \n",
    "\n",
    "1. x : Insert x in your data structure. \n",
    "2. y : Delete one occurence of y from your data structure, if present. \n",
    "3. z : Check if any integer is present whose frequency is exactly z. If yes, print 1 else 0."
   ]
  },
  {
   "cell_type": "code",
   "execution_count": 201,
   "metadata": {},
   "outputs": [],
   "source": [
    "# Operation   Array   Output\n",
    "# (1,1)       [1]\n",
    "# (2,2)       [1]\n",
    "# (3,2)                   0\n",
    "# (1,1)       [1,1]\n",
    "# (1,1)       [1,1,1]\n",
    "# (2,1)       [1,1]\n",
    "# (3,2)                   1"
   ]
  },
  {
   "cell_type": "code",
   "execution_count": 222,
   "metadata": {},
   "outputs": [],
   "source": [
    "queries = [(1, 5), (1, 6), (3, 2), (1, 10), (1, 10), (1, 6), (2, 5), (3, 2)]"
   ]
  },
  {
   "cell_type": "code",
   "execution_count": 223,
   "metadata": {},
   "outputs": [],
   "source": [
    "### Terminated due to timeout :(\n",
    "\n",
    "def freqQuery(queries):\n",
    "    result = {}\n",
    "    ans = []\n",
    "    for case, data in queries :\n",
    "        result.setdefault(data, 0)\n",
    "        if case == 1 :\n",
    "            result[data] += 1\n",
    "        elif case == 2 :\n",
    "            if result[data] > 0 :\n",
    "                result[data] -= 1\n",
    "        else :\n",
    "            if data in result.values() :\n",
    "                ans.append(1)\n",
    "            else :\n",
    "                ans.append(0)\n",
    "    return ans"
   ]
  },
  {
   "cell_type": "code",
   "execution_count": 224,
   "metadata": {},
   "outputs": [
    {
     "data": {
      "text/plain": [
       "[0, 1]"
      ]
     },
     "execution_count": 224,
     "metadata": {},
     "output_type": "execute_result"
    }
   ],
   "source": [
    "freqQuery(queries)"
   ]
  },
  {
   "cell_type": "code",
   "execution_count": 225,
   "metadata": {},
   "outputs": [],
   "source": [
    "# 위 함수는 시간초과로 효율성 테스트에서 제외됨\n",
    "# 아마도, if data in result.values() 부분에서 문제가 되는듯함\n",
    "# 다른 방법? 어떤거 ?\n",
    "## generator? -> yield?"
   ]
  },
  {
   "cell_type": "code",
   "execution_count": 233,
   "metadata": {},
   "outputs": [],
   "source": [
    "from collections import defaultdict\n",
    "\n",
    "def freqQuery(queries):\n",
    "    # 위와 동일한데, freq라는 빈도수 사전을 통하여 freq가 정확히 z인 값을 찾아냄.\n",
    "    result = defaultdict(int)\n",
    "    freq = defaultdict(int)\n",
    "    for case, data in queries:\n",
    "        if case == 1:\n",
    "            result[data] += 1\n",
    "            # insert 되므로, 값 하나 추가하고, freq사전에서 아래값 하나 제거 \n",
    "            # 1 빈도가 2 빈도로 변경되므로, 2 빈도 하나 추가, 1 빈도 하나 감소\n",
    "            freq[result[data]] += 1\n",
    "            freq[result[data]-1] -= 1\n",
    "        elif case == 2:\n",
    "            if result[data] > 0:\n",
    "                result[data] -= 1\n",
    "                freq[result[data]] += 1\n",
    "                freq[result[data]+1] -= 1\n",
    "        else:\n",
    "            yield 1 if freq[data] > 0 else 0\n",
    "            ## generator 사용하여, 속도 절감 "
   ]
  },
  {
   "cell_type": "code",
   "execution_count": 240,
   "metadata": {},
   "outputs": [
    {
     "name": "stdout",
     "output_type": "stream",
     "text": [
      "0\n",
      "1\n",
      "1\n"
     ]
    }
   ],
   "source": [
    "queries = [(1, 3), (2, 3), (3, 2), (1, 4), (1, 5), (1, 5), (1, 4), (3, 2), (2, 4), (3, 2)]\n",
    "print('\\n'.join(map(str, freqQuery(queries))))"
   ]
  },
  {
   "cell_type": "code",
   "execution_count": null,
   "metadata": {},
   "outputs": [],
   "source": []
  }
 ],
 "metadata": {
  "kernelspec": {
   "display_name": "Python 3",
   "language": "python",
   "name": "python3"
  },
  "language_info": {
   "codemirror_mode": {
    "name": "ipython",
    "version": 3
   },
   "file_extension": ".py",
   "mimetype": "text/x-python",
   "name": "python",
   "nbconvert_exporter": "python",
   "pygments_lexer": "ipython3",
   "version": "3.7.4"
  }
 },
 "nbformat": 4,
 "nbformat_minor": 2
}
